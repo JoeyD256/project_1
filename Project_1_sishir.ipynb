{
 "cells": [
  {
   "cell_type": "code",
   "execution_count": null,
   "metadata": {},
   "outputs": [],
   "source": [
    "import pandas as pd\n",
    "import matplotlib as plt\n",
    "import numpy as np\n",
    "import pprint\n",
    "import json\n",
    "\n",
    "import requests\n",
    "url = \"https://api-formula-1.p.rapidapi.com/rankings/races\"\n",
    "querystring = {\"race\":\"50\"}\n",
    "headers = {\n",
    "    \"X-RapidAPI-Key\": \"e9189fe553msh83b755f001cee0ep19b30ejsne5a40e8fd4d6\",\n",
    "    \"X-RapidAPI-Host\": \"api-formula-1.p.rapidapi.com\"\n",
    "}\n",
    "response = requests.get(url, headers=headers, params=querystring)\n",
    "print(response.json())\n",
    "6:50\n",
    "print(json.dumps(response.json(), indent=4, sort_keys=True))\n",
    "6:50\n",
    "data = response.json()['response']\n",
    "len(data)\n",
    "6:50\n",
    "driver = []\n",
    "driver_id = []\n",
    "position_finished = []\n",
    "for ind in range(len(data)):\n",
    "    driver.append(data[ind]['driver']['name'])\n",
    "    driver_id.append(data[ind]['driver']['id'])\n",
    "    position_finished.append(data[ind]['position'])\n",
    "6:51\n",
    "driver_info = {\"Driver\": driver,\n",
    "               \"Driver_ID\": driver_id,\n",
    "               \"Position_Finished\": position_finished}\n",
    "6:51\n",
    "driver_df = pd.DataFrame(driver_info)\n",
    "driver_df\n",
    "New\n",
    "6:51\n",
    "driver_df = pd.DataFrame(driver_info)\n",
    "driver_df"
   ]
  }
 ],
 "metadata": {
  "language_info": {
   "name": "python"
  }
 },
 "nbformat": 4,
 "nbformat_minor": 2
}
